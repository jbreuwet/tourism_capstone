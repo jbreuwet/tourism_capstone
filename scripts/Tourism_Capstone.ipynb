{
 "cells": [
  {
   "cell_type": "markdown",
   "id": "0dabc2ea-8316-4c2a-88ec-60cb9447d471",
   "metadata": {},
   "source": [
    "# Tourism Capstone Project"
   ]
  },
  {
   "cell_type": "code",
   "execution_count": 1,
   "id": "8dc14773-633f-49ab-ba4a-dcc8eef5c264",
   "metadata": {},
   "outputs": [],
   "source": [
    "import pandas as pd\n",
    "import seaborn as sns\n",
    "import matplotlib.pyplot as plt\n",
    "import numpy as np"
   ]
  },
  {
   "cell_type": "markdown",
   "id": "8f1006ea-c323-4678-89e5-b0258331e9f1",
   "metadata": {},
   "source": [
    "## Importing all Clean CSVs"
   ]
  },
  {
   "cell_type": "code",
   "execution_count": 7,
   "id": "76eeaa21-652a-4a6c-a0ac-ec64a9f6e15c",
   "metadata": {},
   "outputs": [],
   "source": [
    "arrivals = pd.read_csv('../data/clean/arrivals.csv')"
   ]
  },
  {
   "cell_type": "code",
   "execution_count": 9,
   "id": "421ceb8c-19a0-4c07-886b-3f31166f516a",
   "metadata": {},
   "outputs": [],
   "source": [
    "employment = pd.read_csv('../data/clean/employment.csv')"
   ]
  },
  {
   "cell_type": "code",
   "execution_count": 11,
   "id": "d483d08e-003e-4a2c-875a-8702731ca50d",
   "metadata": {},
   "outputs": [],
   "source": [
    "expenditure = pd.read_csv('../data/clean/expenditure.csv')"
   ]
  },
  {
   "cell_type": "code",
   "execution_count": 13,
   "id": "14924358-99b2-4488-8587-cd06507d9712",
   "metadata": {},
   "outputs": [],
   "source": [
    "gdp = pd.read_csv('../data/clean/gdp.csv')"
   ]
  },
  {
   "cell_type": "code",
   "execution_count": 15,
   "id": "1a933ac6-d9e9-4268-bfaa-c51c7efc529a",
   "metadata": {},
   "outputs": [
    {
     "name": "stderr",
     "output_type": "stream",
     "text": [
      "C:\\Users\\jbreu\\AppData\\Local\\Temp\\ipykernel_23136\\3355248814.py:1: DtypeWarning: Columns (3) have mixed types. Specify dtype option on import or set low_memory=False.\n",
      "  gdp_per_capita = pd.read_csv('../data/clean/gdp_per_capita.csv')\n"
     ]
    }
   ],
   "source": [
    "gdp_per_capita = pd.read_csv('../data/clean/gdp_per_capita.csv')"
   ]
  },
  {
   "cell_type": "code",
   "execution_count": 19,
   "id": "764bd890-3875-4978-8f68-31317768e049",
   "metadata": {},
   "outputs": [],
   "source": [
    "industries = pd.read_csv('../data/clean/industries.csv')"
   ]
  },
  {
   "cell_type": "code",
   "execution_count": 21,
   "id": "893223ee-3ff8-4577-b689-60a484ee2869",
   "metadata": {},
   "outputs": [],
   "source": [
    "population = pd.read_csv('../data/clean/population.csv')"
   ]
  },
  {
   "cell_type": "code",
   "execution_count": 23,
   "id": "e0adae57-d5f0-4192-9ac9-6154aebb670c",
   "metadata": {},
   "outputs": [],
   "source": [
    "regions = pd.read_csv('../data/clean/regions.csv')"
   ]
  },
  {
   "cell_type": "code",
   "execution_count": 25,
   "id": "aa896ad7-3213-486a-b3c9-1b3f96f0464e",
   "metadata": {},
   "outputs": [],
   "source": [
    "tourism_gdp = pd.read_csv('../data/clean/tourism_gdp.csv')"
   ]
  },
  {
   "cell_type": "markdown",
   "id": "f8805cbc-2565-4803-ae27-25e41a16606b",
   "metadata": {},
   "source": [
    "## EDA"
   ]
  },
  {
   "cell_type": "markdown",
   "id": "7848f322-456f-4e39-a7b1-0e4c3c1e812e",
   "metadata": {},
   "source": [
    "### Arrivals"
   ]
  },
  {
   "cell_type": "code",
   "execution_count": 53,
   "id": "9e4806aa-e332-482d-aafb-1e7abd60c00b",
   "metadata": {},
   "outputs": [
    {
     "data": {
      "text/plain": [
       "Unnamed: 0            int64\n",
       "Country              object\n",
       "Year                  int64\n",
       "Total arrivals       object\n",
       "Tourists             object\n",
       "Excursionists        object\n",
       "Cruise Passengers    object\n",
       "dtype: object"
      ]
     },
     "execution_count": 53,
     "metadata": {},
     "output_type": "execute_result"
    }
   ],
   "source": [
    "arrivals.dtypes"
   ]
  },
  {
   "cell_type": "code",
   "execution_count": 96,
   "id": "8f086abe-1467-4775-a789-fdee8c1cf2fc",
   "metadata": {},
   "outputs": [],
   "source": [
    "arrivals_with_data = arrivals.loc[arrivals['Total arrivals'] != '..']"
   ]
  },
  {
   "cell_type": "code",
   "execution_count": 98,
   "id": "c3f86741-f475-4a07-8440-dfa7cf88efc3",
   "metadata": {},
   "outputs": [
    {
     "name": "stderr",
     "output_type": "stream",
     "text": [
      "C:\\Users\\jbreu\\AppData\\Local\\Temp\\ipykernel_23136\\1840284193.py:1: SettingWithCopyWarning: \n",
      "A value is trying to be set on a copy of a slice from a DataFrame.\n",
      "Try using .loc[row_indexer,col_indexer] = value instead\n",
      "\n",
      "See the caveats in the documentation: https://pandas.pydata.org/pandas-docs/stable/user_guide/indexing.html#returning-a-view-versus-a-copy\n",
      "  arrivals_with_data['Total arrivals'] = arrivals_with_data['Total arrivals'].str.replace(',','')\n"
     ]
    }
   ],
   "source": [
    "arrivals_with_data['Total arrivals'] = arrivals_with_data['Total arrivals'].str.replace(',','')"
   ]
  },
  {
   "cell_type": "code",
   "execution_count": 100,
   "id": "4c8e2349-1524-4337-b27e-4ccafd1e517d",
   "metadata": {},
   "outputs": [
    {
     "name": "stderr",
     "output_type": "stream",
     "text": [
      "C:\\Users\\jbreu\\AppData\\Local\\Temp\\ipykernel_23136\\2954131986.py:1: SettingWithCopyWarning: \n",
      "A value is trying to be set on a copy of a slice from a DataFrame.\n",
      "Try using .loc[row_indexer,col_indexer] = value instead\n",
      "\n",
      "See the caveats in the documentation: https://pandas.pydata.org/pandas-docs/stable/user_guide/indexing.html#returning-a-view-versus-a-copy\n",
      "  arrivals_with_data['Total arrivals'] = arrivals_with_data['Total arrivals'].astype(float)\n"
     ]
    }
   ],
   "source": [
    "arrivals_with_data['Total arrivals'] = arrivals_with_data['Total arrivals'].astype(float)"
   ]
  },
  {
   "cell_type": "code",
   "execution_count": 110,
   "id": "b81a98bd-aa51-4e35-99c3-8d520031a476",
   "metadata": {},
   "outputs": [],
   "source": [
    "sum_total_arrivals = arrivals_with_data.groupby('Country')['Total arrivals'].sum().reset_index().sort_values(by = 'Total arrivals', ascending = False)"
   ]
  },
  {
   "cell_type": "code",
   "execution_count": 112,
   "id": "3539938b-7cfa-4db6-a4ad-89ef716fe1f5",
   "metadata": {},
   "outputs": [
    {
     "data": {
      "text/html": [
       "<div>\n",
       "<style scoped>\n",
       "    .dataframe tbody tr th:only-of-type {\n",
       "        vertical-align: middle;\n",
       "    }\n",
       "\n",
       "    .dataframe tbody tr th {\n",
       "        vertical-align: top;\n",
       "    }\n",
       "\n",
       "    .dataframe thead th {\n",
       "        text-align: right;\n",
       "    }\n",
       "</style>\n",
       "<table border=\"1\" class=\"dataframe\">\n",
       "  <thead>\n",
       "    <tr style=\"text-align: right;\">\n",
       "      <th></th>\n",
       "      <th>Country</th>\n",
       "      <th>Total arrivals</th>\n",
       "    </tr>\n",
       "  </thead>\n",
       "  <tbody>\n",
       "    <tr>\n",
       "      <th>49</th>\n",
       "      <td>FRANCE</td>\n",
       "      <td>3446103.0</td>\n",
       "    </tr>\n",
       "    <tr>\n",
       "      <th>153</th>\n",
       "      <td>UNITED STATES OF AMERICA</td>\n",
       "      <td>2921016.0</td>\n",
       "    </tr>\n",
       "    <tr>\n",
       "      <th>27</th>\n",
       "      <td>CHINA</td>\n",
       "      <td>2592937.0</td>\n",
       "    </tr>\n",
       "    <tr>\n",
       "      <th>135</th>\n",
       "      <td>SPAIN</td>\n",
       "      <td>2167136.0</td>\n",
       "    </tr>\n",
       "    <tr>\n",
       "      <th>91</th>\n",
       "      <td>MEXICO</td>\n",
       "      <td>2014779.0</td>\n",
       "    </tr>\n",
       "    <tr>\n",
       "      <th>69</th>\n",
       "      <td>ITALY</td>\n",
       "      <td>1624308.0</td>\n",
       "    </tr>\n",
       "    <tr>\n",
       "      <th>110</th>\n",
       "      <td>POLAND</td>\n",
       "      <td>1543368.0</td>\n",
       "    </tr>\n",
       "    <tr>\n",
       "      <th>33</th>\n",
       "      <td>CROATIA</td>\n",
       "      <td>1093397.0</td>\n",
       "    </tr>\n",
       "    <tr>\n",
       "      <th>62</th>\n",
       "      <td>HUNGARY</td>\n",
       "      <td>957254.0</td>\n",
       "    </tr>\n",
       "    <tr>\n",
       "      <th>61</th>\n",
       "      <td>HONG KONG, CHINA</td>\n",
       "      <td>758040.0</td>\n",
       "    </tr>\n",
       "    <tr>\n",
       "      <th>152</th>\n",
       "      <td>UNITED KINGDOM</td>\n",
       "      <td>693394.0</td>\n",
       "    </tr>\n",
       "    <tr>\n",
       "      <th>149</th>\n",
       "      <td>TÜRKIYE</td>\n",
       "      <td>692126.0</td>\n",
       "    </tr>\n",
       "    <tr>\n",
       "      <th>23</th>\n",
       "      <td>CANADA</td>\n",
       "      <td>676904.0</td>\n",
       "    </tr>\n",
       "    <tr>\n",
       "      <th>38</th>\n",
       "      <td>DENMARK</td>\n",
       "      <td>527580.0</td>\n",
       "    </tr>\n",
       "    <tr>\n",
       "      <th>84</th>\n",
       "      <td>MACAO, CHINA</td>\n",
       "      <td>502620.0</td>\n",
       "    </tr>\n",
       "  </tbody>\n",
       "</table>\n",
       "</div>"
      ],
      "text/plain": [
       "                      Country  Total arrivals\n",
       "49                     FRANCE       3446103.0\n",
       "153  UNITED STATES OF AMERICA       2921016.0\n",
       "27                      CHINA       2592937.0\n",
       "135                     SPAIN       2167136.0\n",
       "91                     MEXICO       2014779.0\n",
       "69                      ITALY       1624308.0\n",
       "110                    POLAND       1543368.0\n",
       "33                    CROATIA       1093397.0\n",
       "62                    HUNGARY        957254.0\n",
       "61           HONG KONG, CHINA        758040.0\n",
       "152            UNITED KINGDOM        693394.0\n",
       "149                   TÜRKIYE        692126.0\n",
       "23                     CANADA        676904.0\n",
       "38                    DENMARK        527580.0\n",
       "84               MACAO, CHINA        502620.0"
      ]
     },
     "execution_count": 112,
     "metadata": {},
     "output_type": "execute_result"
    }
   ],
   "source": [
    "sum_total_arrivals.head(15)"
   ]
  },
  {
   "cell_type": "code",
   "execution_count": null,
   "id": "8a14263e-23fd-490e-8263-ad7d9d0e2321",
   "metadata": {},
   "outputs": [],
   "source": []
  }
 ],
 "metadata": {
  "kernelspec": {
   "display_name": "Python 3 (ipykernel)",
   "language": "python",
   "name": "python3"
  },
  "language_info": {
   "codemirror_mode": {
    "name": "ipython",
    "version": 3
   },
   "file_extension": ".py",
   "mimetype": "text/x-python",
   "name": "python",
   "nbconvert_exporter": "python",
   "pygments_lexer": "ipython3",
   "version": "3.11.7"
  }
 },
 "nbformat": 4,
 "nbformat_minor": 5
}
