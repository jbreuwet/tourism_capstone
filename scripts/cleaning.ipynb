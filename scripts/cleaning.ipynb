{
 "cells": [
  {
   "cell_type": "markdown",
   "id": "d7965dbd-6fd5-486e-a114-8b6d575880f7",
   "metadata": {},
   "source": [
    "# Data Cleaning"
   ]
  },
  {
   "cell_type": "code",
   "execution_count": 1,
   "id": "825749de-f07e-4a44-89ee-0fc9b16b84c9",
   "metadata": {},
   "outputs": [],
   "source": [
    "import pandas as pd"
   ]
  },
  {
   "cell_type": "markdown",
   "id": "5bc2c6e8-d9f9-4444-8837-58cb1a0bd1b4",
   "metadata": {},
   "source": [
    "## Cleaning the Arrivals CSV"
   ]
  },
  {
   "cell_type": "code",
   "execution_count": 9,
   "id": "3d8dc307-78c2-4251-85ed-11170e3f76ed",
   "metadata": {},
   "outputs": [],
   "source": [
    "arrivals = pd.read_csv('../data/dirty/arrivals-d.csv')"
   ]
  },
  {
   "cell_type": "code",
   "execution_count": 13,
   "id": "6920975c-dcad-4b89-9feb-5320e4e3becc",
   "metadata": {},
   "outputs": [],
   "source": [
    "arrivals_appended = []\n",
    "for country in pd.unique(arrivals.Country):\n",
    "    transpose = arrivals.loc[arrivals.Country == country].drop(columns = ['Country']).transpose()\n",
    "    transpose.columns = transpose.iloc[0]\n",
    "    arrivals_appended.append(transpose)\n",
    "    \n",
    "final_arrivals = pd.concat(arrivals_appended)\n"
   ]
  },
  {
   "cell_type": "code",
   "execution_count": 17,
   "id": "7c248792-1e60-4675-9f59-7f003aceddf4",
   "metadata": {},
   "outputs": [],
   "source": [
    "final_arrivals = final_arrivals.loc[final_arrivals['Total arrivals'] != 'Total arrivals']"
   ]
  },
  {
   "cell_type": "code",
   "execution_count": 352,
   "id": "ad973fa2-aeac-4cd9-ad77-d4d82da88e4c",
   "metadata": {},
   "outputs": [],
   "source": [
    "final_arrivals = final_arrivals.reset_index()"
   ]
  },
  {
   "cell_type": "code",
   "execution_count": 307,
   "id": "5bc51a3e-209f-424c-970d-e99ca746233e",
   "metadata": {},
   "outputs": [],
   "source": [
    "country_list = arrivals.Country.unique()"
   ]
  },
  {
   "cell_type": "code",
   "execution_count": 309,
   "id": "016d69cf-5282-46df-a865-3666c0679447",
   "metadata": {},
   "outputs": [],
   "source": [
    "country_list = pd.DataFrame(country_list)"
   ]
  },
  {
   "cell_type": "code",
   "execution_count": 311,
   "id": "daa437a0-8033-4cee-b35c-810b0f655904",
   "metadata": {},
   "outputs": [],
   "source": [
    "country_list = country_list.rename(columns = {0:'Country'})"
   ]
  },
  {
   "cell_type": "code",
   "execution_count": 327,
   "id": "020478d8-a950-437f-bf53-831a8fefa66b",
   "metadata": {},
   "outputs": [],
   "source": [
    "arrivals_country_list = country_list.Country.repeat(23).reset_index(drop = True)"
   ]
  },
  {
   "cell_type": "code",
   "execution_count": 333,
   "id": "c1d96b4c-75b6-4778-9ffa-b039673d9a7e",
   "metadata": {},
   "outputs": [],
   "source": [
    "arrivals_country_list = arrivals_country_list.to_frame()"
   ]
  },
  {
   "cell_type": "code",
   "execution_count": 356,
   "id": "3febbac0-ac8b-4a42-a868-84ca58985f57",
   "metadata": {},
   "outputs": [],
   "source": [
    "arrivals_cleaned = pd.concat([arrivals_country_list, final_arrivals], axis = 1)"
   ]
  },
  {
   "cell_type": "code",
   "execution_count": 499,
   "id": "560fe662-8b8e-441f-b1b7-d1401f8a29cc",
   "metadata": {},
   "outputs": [],
   "source": [
    "arrivals_cleaned = arrivals_cleaned.rename(columns = {'index':'Year', 'Overnights visitors (tourists)':'Tourists',\n",
    "                                   'Same-day visitors (excursionists)':'Excursionists', 'of which, cruise passengers':'Cruise Passengers'})"
   ]
  },
  {
   "cell_type": "code",
   "execution_count": 507,
   "id": "c4a5b0b2-b66d-45f8-96c6-f77bc0a87666",
   "metadata": {},
   "outputs": [
    {
     "data": {
      "text/html": [
       "<div>\n",
       "<style scoped>\n",
       "    .dataframe tbody tr th:only-of-type {\n",
       "        vertical-align: middle;\n",
       "    }\n",
       "\n",
       "    .dataframe tbody tr th {\n",
       "        vertical-align: top;\n",
       "    }\n",
       "\n",
       "    .dataframe thead th {\n",
       "        text-align: right;\n",
       "    }\n",
       "</style>\n",
       "<table border=\"1\" class=\"dataframe\">\n",
       "  <thead>\n",
       "    <tr style=\"text-align: right;\">\n",
       "      <th></th>\n",
       "      <th>Country</th>\n",
       "      <th>Year</th>\n",
       "      <th>Total arrivals</th>\n",
       "      <th>Tourists</th>\n",
       "      <th>Excursionists</th>\n",
       "      <th>Cruise Passengers</th>\n",
       "    </tr>\n",
       "  </thead>\n",
       "  <tbody>\n",
       "    <tr>\n",
       "      <th>0</th>\n",
       "      <td>AFGHANISTAN</td>\n",
       "      <td>2000</td>\n",
       "      <td>..</td>\n",
       "      <td>..</td>\n",
       "      <td>..</td>\n",
       "      <td>..</td>\n",
       "    </tr>\n",
       "    <tr>\n",
       "      <th>1</th>\n",
       "      <td>AFGHANISTAN</td>\n",
       "      <td>2001</td>\n",
       "      <td>..</td>\n",
       "      <td>..</td>\n",
       "      <td>..</td>\n",
       "      <td>..</td>\n",
       "    </tr>\n",
       "    <tr>\n",
       "      <th>2</th>\n",
       "      <td>AFGHANISTAN</td>\n",
       "      <td>2002</td>\n",
       "      <td>..</td>\n",
       "      <td>..</td>\n",
       "      <td>..</td>\n",
       "      <td>..</td>\n",
       "    </tr>\n",
       "    <tr>\n",
       "      <th>3</th>\n",
       "      <td>AFGHANISTAN</td>\n",
       "      <td>2003</td>\n",
       "      <td>..</td>\n",
       "      <td>..</td>\n",
       "      <td>..</td>\n",
       "      <td>..</td>\n",
       "    </tr>\n",
       "    <tr>\n",
       "      <th>4</th>\n",
       "      <td>AFGHANISTAN</td>\n",
       "      <td>2004</td>\n",
       "      <td>..</td>\n",
       "      <td>..</td>\n",
       "      <td>..</td>\n",
       "      <td>..</td>\n",
       "    </tr>\n",
       "  </tbody>\n",
       "</table>\n",
       "</div>"
      ],
      "text/plain": [
       "       Country  Year Total arrivals Tourists Excursionists Cruise Passengers\n",
       "0  AFGHANISTAN  2000             ..       ..            ..                ..\n",
       "1  AFGHANISTAN  2001             ..       ..            ..                ..\n",
       "2  AFGHANISTAN  2002             ..       ..            ..                ..\n",
       "3  AFGHANISTAN  2003             ..       ..            ..                ..\n",
       "4  AFGHANISTAN  2004             ..       ..            ..                .."
      ]
     },
     "execution_count": 507,
     "metadata": {},
     "output_type": "execute_result"
    }
   ],
   "source": [
    "arrivals_cleaned.head()"
   ]
  },
  {
   "cell_type": "code",
   "execution_count": 553,
   "id": "0ec70929-6b99-45e4-ac42-9f2a2aa0afe3",
   "metadata": {},
   "outputs": [],
   "source": [
    "arrivals_cleaned.to_csv('../data/clean/arrivals.csv')"
   ]
  },
  {
   "cell_type": "markdown",
   "id": "fbed6241-b4fb-402d-a8a6-875ac6625bdd",
   "metadata": {},
   "source": [
    "## Cleaning the Regions CSV"
   ]
  },
  {
   "cell_type": "code",
   "execution_count": 61,
   "id": "57b4d9b6-098c-497c-82b6-ef56e475dc01",
   "metadata": {},
   "outputs": [],
   "source": [
    "regions = pd.read_csv('../data/dirty/regions-d.csv')"
   ]
  },
  {
   "cell_type": "code",
   "execution_count": 65,
   "id": "7e914afc-cd25-49a0-b948-fc55a54858a0",
   "metadata": {},
   "outputs": [],
   "source": [
    "regions_appended = []\n",
    "for country in pd.unique(regions.Country):\n",
    "    transpose = regions.loc[regions.Country == country].drop(columns = ['Country']).transpose()\n",
    "    transpose.columns = transpose.iloc[0]\n",
    "    regions_appended.append(transpose)\n",
    "\n",
    "final_regions = pd.concat(regions_appended)"
   ]
  },
  {
   "cell_type": "code",
   "execution_count": 381,
   "id": "5cfb7211-f94b-422b-b5b3-522332acb1fa",
   "metadata": {},
   "outputs": [],
   "source": [
    "final_regions = final_regions.loc[final_regions['Total'] != 'Total'].reset_index()"
   ]
  },
  {
   "cell_type": "code",
   "execution_count": 371,
   "id": "9074f852-f7b3-4823-88fd-04b8b4270bab",
   "metadata": {},
   "outputs": [],
   "source": [
    "regions_country_list = country_list.Country.repeat(23).reset_index(drop = True).to_frame()"
   ]
  },
  {
   "cell_type": "code",
   "execution_count": 396,
   "id": "11c10a13-d22b-4e49-a179-67970a0d1d68",
   "metadata": {},
   "outputs": [],
   "source": [
    "regions_cleaned = pd.concat([regions_country_list, final_regions], axis=1)"
   ]
  },
  {
   "cell_type": "code",
   "execution_count": 511,
   "id": "fad02c5d-a7e0-4e9e-8f32-963ce2d852c2",
   "metadata": {},
   "outputs": [],
   "source": [
    "regions_cleaned = regions_cleaned.rename(columns = {'index':'Year'})"
   ]
  },
  {
   "cell_type": "code",
   "execution_count": 513,
   "id": "2bd0d0a0-f54a-4f77-adfb-86f2ad3f9ebd",
   "metadata": {},
   "outputs": [
    {
     "data": {
      "text/html": [
       "<div>\n",
       "<style scoped>\n",
       "    .dataframe tbody tr th:only-of-type {\n",
       "        vertical-align: middle;\n",
       "    }\n",
       "\n",
       "    .dataframe tbody tr th {\n",
       "        vertical-align: top;\n",
       "    }\n",
       "\n",
       "    .dataframe thead th {\n",
       "        text-align: right;\n",
       "    }\n",
       "</style>\n",
       "<table border=\"1\" class=\"dataframe\">\n",
       "  <thead>\n",
       "    <tr style=\"text-align: right;\">\n",
       "      <th></th>\n",
       "      <th>Country</th>\n",
       "      <th>Year</th>\n",
       "      <th>Total</th>\n",
       "      <th>Africa</th>\n",
       "      <th>Americas</th>\n",
       "      <th>East Asia and the Pacific</th>\n",
       "      <th>Europe</th>\n",
       "      <th>Middle East</th>\n",
       "      <th>South Asia</th>\n",
       "      <th>Other not classified</th>\n",
       "      <th>of which, nationals residing abroad</th>\n",
       "    </tr>\n",
       "  </thead>\n",
       "  <tbody>\n",
       "    <tr>\n",
       "      <th>0</th>\n",
       "      <td>AFGHANISTAN</td>\n",
       "      <td>2000</td>\n",
       "      <td>..</td>\n",
       "      <td>..</td>\n",
       "      <td>..</td>\n",
       "      <td>..</td>\n",
       "      <td>..</td>\n",
       "      <td>..</td>\n",
       "      <td>..</td>\n",
       "      <td>..</td>\n",
       "      <td>..</td>\n",
       "    </tr>\n",
       "    <tr>\n",
       "      <th>1</th>\n",
       "      <td>AFGHANISTAN</td>\n",
       "      <td>2001</td>\n",
       "      <td>..</td>\n",
       "      <td>..</td>\n",
       "      <td>..</td>\n",
       "      <td>..</td>\n",
       "      <td>..</td>\n",
       "      <td>..</td>\n",
       "      <td>..</td>\n",
       "      <td>..</td>\n",
       "      <td>..</td>\n",
       "    </tr>\n",
       "    <tr>\n",
       "      <th>2</th>\n",
       "      <td>AFGHANISTAN</td>\n",
       "      <td>2002</td>\n",
       "      <td>..</td>\n",
       "      <td>..</td>\n",
       "      <td>..</td>\n",
       "      <td>..</td>\n",
       "      <td>..</td>\n",
       "      <td>..</td>\n",
       "      <td>..</td>\n",
       "      <td>..</td>\n",
       "      <td>..</td>\n",
       "    </tr>\n",
       "    <tr>\n",
       "      <th>3</th>\n",
       "      <td>AFGHANISTAN</td>\n",
       "      <td>2003</td>\n",
       "      <td>..</td>\n",
       "      <td>..</td>\n",
       "      <td>..</td>\n",
       "      <td>..</td>\n",
       "      <td>..</td>\n",
       "      <td>..</td>\n",
       "      <td>..</td>\n",
       "      <td>..</td>\n",
       "      <td>..</td>\n",
       "    </tr>\n",
       "    <tr>\n",
       "      <th>4</th>\n",
       "      <td>AFGHANISTAN</td>\n",
       "      <td>2004</td>\n",
       "      <td>..</td>\n",
       "      <td>..</td>\n",
       "      <td>..</td>\n",
       "      <td>..</td>\n",
       "      <td>..</td>\n",
       "      <td>..</td>\n",
       "      <td>..</td>\n",
       "      <td>..</td>\n",
       "      <td>..</td>\n",
       "    </tr>\n",
       "  </tbody>\n",
       "</table>\n",
       "</div>"
      ],
      "text/plain": [
       "       Country  Year Total Africa Americas East Asia and the Pacific Europe  \\\n",
       "0  AFGHANISTAN  2000    ..     ..       ..                        ..     ..   \n",
       "1  AFGHANISTAN  2001    ..     ..       ..                        ..     ..   \n",
       "2  AFGHANISTAN  2002    ..     ..       ..                        ..     ..   \n",
       "3  AFGHANISTAN  2003    ..     ..       ..                        ..     ..   \n",
       "4  AFGHANISTAN  2004    ..     ..       ..                        ..     ..   \n",
       "\n",
       "  Middle East South Asia Other not classified  \\\n",
       "0          ..         ..                   ..   \n",
       "1          ..         ..                   ..   \n",
       "2          ..         ..                   ..   \n",
       "3          ..         ..                   ..   \n",
       "4          ..         ..                   ..   \n",
       "\n",
       "  of which, nationals residing abroad  \n",
       "0                                  ..  \n",
       "1                                  ..  \n",
       "2                                  ..  \n",
       "3                                  ..  \n",
       "4                                  ..  "
      ]
     },
     "execution_count": 513,
     "metadata": {},
     "output_type": "execute_result"
    }
   ],
   "source": [
    "regions_cleaned.head()"
   ]
  },
  {
   "cell_type": "code",
   "execution_count": 555,
   "id": "78519ea5-5e6b-43ef-93dc-2b75e969cb7b",
   "metadata": {},
   "outputs": [],
   "source": [
    "regions_cleaned.to_csv('../data/clean/regions.csv')"
   ]
  },
  {
   "cell_type": "markdown",
   "id": "f9a1b72c-5b97-4f07-bd12-44453c5dd10d",
   "metadata": {},
   "source": [
    "## Cleaning Expenditures CSV"
   ]
  },
  {
   "cell_type": "code",
   "execution_count": 77,
   "id": "0d0553ca-f5eb-437a-b4ba-db9c983b1a5b",
   "metadata": {},
   "outputs": [],
   "source": [
    "expenditure = pd.read_csv('../data/dirty/expenditure-d.csv')"
   ]
  },
  {
   "cell_type": "code",
   "execution_count": 81,
   "id": "0059d2cb-f83a-4ae1-9b9e-26171f10fd5e",
   "metadata": {},
   "outputs": [],
   "source": [
    "expenditure_appended = []\n",
    "for country in pd.unique(expenditure.Country):\n",
    "    transpose = expenditure.loc[expenditure.Country == country].drop(columns = ['Country']).transpose()\n",
    "    transpose.columns = transpose.iloc[0]\n",
    "    expenditure_appended.append(transpose)\n",
    "\n",
    "final_expenditure = pd.concat(expenditure_appended)"
   ]
  },
  {
   "cell_type": "code",
   "execution_count": 388,
   "id": "91d7f0dc-939f-4eed-b97e-6314ab300ca6",
   "metadata": {},
   "outputs": [],
   "source": [
    "final_expenditure = final_expenditure.loc[final_expenditure['Travel'] != 'Travel'].reset_index()"
   ]
  },
  {
   "cell_type": "code",
   "execution_count": 394,
   "id": "3d6f8585-3f8c-4c48-83ae-1d9eabdd4a27",
   "metadata": {},
   "outputs": [],
   "source": [
    "expenditure_country_list = country_list.Country.repeat(23).reset_index(drop = True).to_frame()"
   ]
  },
  {
   "cell_type": "code",
   "execution_count": 404,
   "id": "5ef7bab5-8daf-4640-be78-fc5b3a417820",
   "metadata": {},
   "outputs": [],
   "source": [
    "expenditure_cleaned = pd.concat([expenditure_country_list, final_expenditure], axis = 1)"
   ]
  },
  {
   "cell_type": "code",
   "execution_count": 523,
   "id": "2d34d03a-6968-4d64-8fe3-d3e6730ba980",
   "metadata": {},
   "outputs": [],
   "source": [
    "expenditure_cleaned = expenditure_cleaned.rename(columns = {'index':'Year',\n",
    "                                                           'Tourism expenditure in the country':'Tourism Expenditure'})"
   ]
  },
  {
   "cell_type": "code",
   "execution_count": 525,
   "id": "51f17b8e-3161-4071-95d3-5ac8ac1a49d9",
   "metadata": {},
   "outputs": [
    {
     "data": {
      "text/html": [
       "<div>\n",
       "<style scoped>\n",
       "    .dataframe tbody tr th:only-of-type {\n",
       "        vertical-align: middle;\n",
       "    }\n",
       "\n",
       "    .dataframe tbody tr th {\n",
       "        vertical-align: top;\n",
       "    }\n",
       "\n",
       "    .dataframe thead th {\n",
       "        text-align: right;\n",
       "    }\n",
       "</style>\n",
       "<table border=\"1\" class=\"dataframe\">\n",
       "  <thead>\n",
       "    <tr style=\"text-align: right;\">\n",
       "      <th></th>\n",
       "      <th>Country</th>\n",
       "      <th>Year</th>\n",
       "      <th>Tourism Expenditure</th>\n",
       "      <th>Travel</th>\n",
       "      <th>Passenger transport</th>\n",
       "    </tr>\n",
       "  </thead>\n",
       "  <tbody>\n",
       "    <tr>\n",
       "      <th>0</th>\n",
       "      <td>AFGHANISTAN</td>\n",
       "      <td>2000</td>\n",
       "      <td>..</td>\n",
       "      <td>..</td>\n",
       "      <td>..</td>\n",
       "    </tr>\n",
       "    <tr>\n",
       "      <th>1</th>\n",
       "      <td>AFGHANISTAN</td>\n",
       "      <td>2001</td>\n",
       "      <td>..</td>\n",
       "      <td>..</td>\n",
       "      <td>..</td>\n",
       "    </tr>\n",
       "    <tr>\n",
       "      <th>2</th>\n",
       "      <td>AFGHANISTAN</td>\n",
       "      <td>2002</td>\n",
       "      <td>..</td>\n",
       "      <td>..</td>\n",
       "      <td>..</td>\n",
       "    </tr>\n",
       "    <tr>\n",
       "      <th>3</th>\n",
       "      <td>AFGHANISTAN</td>\n",
       "      <td>2003</td>\n",
       "      <td>..</td>\n",
       "      <td>..</td>\n",
       "      <td>..</td>\n",
       "    </tr>\n",
       "    <tr>\n",
       "      <th>4</th>\n",
       "      <td>AFGHANISTAN</td>\n",
       "      <td>2004</td>\n",
       "      <td>..</td>\n",
       "      <td>..</td>\n",
       "      <td>..</td>\n",
       "    </tr>\n",
       "  </tbody>\n",
       "</table>\n",
       "</div>"
      ],
      "text/plain": [
       "       Country  Year Tourism Expenditure Travel Passenger transport\n",
       "0  AFGHANISTAN  2000                  ..     ..                  ..\n",
       "1  AFGHANISTAN  2001                  ..     ..                  ..\n",
       "2  AFGHANISTAN  2002                  ..     ..                  ..\n",
       "3  AFGHANISTAN  2003                  ..     ..                  ..\n",
       "4  AFGHANISTAN  2004                  ..     ..                  .."
      ]
     },
     "execution_count": 525,
     "metadata": {},
     "output_type": "execute_result"
    }
   ],
   "source": [
    "expenditure_cleaned.head()"
   ]
  },
  {
   "cell_type": "code",
   "execution_count": 557,
   "id": "3435d6c0-3fab-47b1-9090-1aea13dfe28a",
   "metadata": {},
   "outputs": [],
   "source": [
    "expenditure_cleaned.to_csv('../data/clean/expenditure.csv')"
   ]
  },
  {
   "cell_type": "markdown",
   "id": "6b41b76f-ca78-4535-a8eb-efa88321a2ce",
   "metadata": {},
   "source": [
    "## Cleaning Industries CSV"
   ]
  },
  {
   "cell_type": "code",
   "execution_count": 105,
   "id": "304fe5f5-7667-45da-9475-c6a39a620c86",
   "metadata": {},
   "outputs": [],
   "source": [
    "industries = pd.read_csv('../data/dirty/industries-d.csv')"
   ]
  },
  {
   "cell_type": "code",
   "execution_count": 109,
   "id": "0b75d6b1-5644-4a7f-b589-78a146418fcd",
   "metadata": {},
   "outputs": [],
   "source": [
    "industries_appended = []\n",
    "for country in pd.unique(industries.Country):\n",
    "    transpose = industries.loc[industries.Country == country].drop(columns = ['Country']).transpose()\n",
    "    transpose.columns = transpose.iloc[0]\n",
    "    industries_appended.append(transpose)\n",
    "\n",
    "final_industries = pd.concat(industries_appended)"
   ]
  },
  {
   "cell_type": "code",
   "execution_count": 410,
   "id": "c4f4389d-af03-4726-b4be-4369d2948c0c",
   "metadata": {},
   "outputs": [],
   "source": [
    "final_industries = final_industries.loc[final_industries['Number of rooms'] != 'Number of rooms'].reset_index()"
   ]
  },
  {
   "cell_type": "code",
   "execution_count": 415,
   "id": "e27b2a39-e3fb-479f-b060-05ed2191fa9b",
   "metadata": {},
   "outputs": [],
   "source": [
    "industries_country_list = country_list.Country.repeat(23).reset_index(drop = True).to_frame()"
   ]
  },
  {
   "cell_type": "code",
   "execution_count": 419,
   "id": "97638d0a-a1a9-435d-9193-f97705c3c62d",
   "metadata": {},
   "outputs": [],
   "source": [
    "industries_cleaned = pd.concat([industries_country_list, final_industries], axis = 1)"
   ]
  },
  {
   "cell_type": "code",
   "execution_count": 531,
   "id": "d8aff75f-b5fb-4b38-a28d-29002381401b",
   "metadata": {},
   "outputs": [],
   "source": [
    "industries_cleaned = industries_cleaned.rename(columns = {'index':'Year'})"
   ]
  },
  {
   "cell_type": "code",
   "execution_count": 533,
   "id": "8ee29e95-a9f0-4687-9ed1-1e7c972ac19d",
   "metadata": {},
   "outputs": [
    {
     "data": {
      "text/html": [
       "<div>\n",
       "<style scoped>\n",
       "    .dataframe tbody tr th:only-of-type {\n",
       "        vertical-align: middle;\n",
       "    }\n",
       "\n",
       "    .dataframe tbody tr th {\n",
       "        vertical-align: top;\n",
       "    }\n",
       "\n",
       "    .dataframe thead th {\n",
       "        text-align: right;\n",
       "    }\n",
       "</style>\n",
       "<table border=\"1\" class=\"dataframe\">\n",
       "  <thead>\n",
       "    <tr style=\"text-align: right;\">\n",
       "      <th></th>\n",
       "      <th>Country</th>\n",
       "      <th>Year</th>\n",
       "      <th>Number of establishments</th>\n",
       "      <th>Number of rooms</th>\n",
       "      <th>Number of bed-places</th>\n",
       "      <th>Occupancy rate / rooms</th>\n",
       "      <th>Occupancy rate / bed-places</th>\n",
       "      <th>Average length of stay</th>\n",
       "    </tr>\n",
       "  </thead>\n",
       "  <tbody>\n",
       "    <tr>\n",
       "      <th>0</th>\n",
       "      <td>AFGHANISTAN</td>\n",
       "      <td>2000</td>\n",
       "      <td>..</td>\n",
       "      <td>..</td>\n",
       "      <td>..</td>\n",
       "      <td>..</td>\n",
       "      <td>..</td>\n",
       "      <td>..</td>\n",
       "    </tr>\n",
       "    <tr>\n",
       "      <th>1</th>\n",
       "      <td>AFGHANISTAN</td>\n",
       "      <td>2001</td>\n",
       "      <td>..</td>\n",
       "      <td>..</td>\n",
       "      <td>..</td>\n",
       "      <td>..</td>\n",
       "      <td>..</td>\n",
       "      <td>..</td>\n",
       "    </tr>\n",
       "    <tr>\n",
       "      <th>2</th>\n",
       "      <td>AFGHANISTAN</td>\n",
       "      <td>2002</td>\n",
       "      <td>..</td>\n",
       "      <td>..</td>\n",
       "      <td>..</td>\n",
       "      <td>..</td>\n",
       "      <td>..</td>\n",
       "      <td>..</td>\n",
       "    </tr>\n",
       "    <tr>\n",
       "      <th>3</th>\n",
       "      <td>AFGHANISTAN</td>\n",
       "      <td>2003</td>\n",
       "      <td>..</td>\n",
       "      <td>..</td>\n",
       "      <td>..</td>\n",
       "      <td>..</td>\n",
       "      <td>..</td>\n",
       "      <td>..</td>\n",
       "    </tr>\n",
       "    <tr>\n",
       "      <th>4</th>\n",
       "      <td>AFGHANISTAN</td>\n",
       "      <td>2004</td>\n",
       "      <td>..</td>\n",
       "      <td>..</td>\n",
       "      <td>..</td>\n",
       "      <td>..</td>\n",
       "      <td>..</td>\n",
       "      <td>..</td>\n",
       "    </tr>\n",
       "  </tbody>\n",
       "</table>\n",
       "</div>"
      ],
      "text/plain": [
       "       Country  Year Number of establishments Number of rooms  \\\n",
       "0  AFGHANISTAN  2000                       ..              ..   \n",
       "1  AFGHANISTAN  2001                       ..              ..   \n",
       "2  AFGHANISTAN  2002                       ..              ..   \n",
       "3  AFGHANISTAN  2003                       ..              ..   \n",
       "4  AFGHANISTAN  2004                       ..              ..   \n",
       "\n",
       "  Number of bed-places Occupancy rate / rooms Occupancy rate / bed-places  \\\n",
       "0                   ..                     ..                          ..   \n",
       "1                   ..                     ..                          ..   \n",
       "2                   ..                     ..                          ..   \n",
       "3                   ..                     ..                          ..   \n",
       "4                   ..                     ..                          ..   \n",
       "\n",
       "  Average length of stay  \n",
       "0                     ..  \n",
       "1                     ..  \n",
       "2                     ..  \n",
       "3                     ..  \n",
       "4                     ..  "
      ]
     },
     "execution_count": 533,
     "metadata": {},
     "output_type": "execute_result"
    }
   ],
   "source": [
    "industries_cleaned.head()"
   ]
  },
  {
   "cell_type": "code",
   "execution_count": 559,
   "id": "d099dfaf-14b4-45c4-9cf6-80046f442092",
   "metadata": {},
   "outputs": [],
   "source": [
    "industries_cleaned.to_csv('../data/clean/industries.csv')"
   ]
  },
  {
   "cell_type": "markdown",
   "id": "ff33788d-4b11-4ab0-9dcf-bd388185a945",
   "metadata": {},
   "source": [
    "## Cleaning Employment CSV"
   ]
  },
  {
   "cell_type": "code",
   "execution_count": 125,
   "id": "5bc0972a-fe8d-4a0e-bafd-17734a77b795",
   "metadata": {},
   "outputs": [],
   "source": [
    "employment = pd.read_csv('../data/dirty/employment-d.csv')"
   ]
  },
  {
   "cell_type": "code",
   "execution_count": 129,
   "id": "ccc8a6e1-91dd-4186-8c5f-64207bcdefb1",
   "metadata": {},
   "outputs": [],
   "source": [
    "employment_appended = []\n",
    "for country in pd.unique(employment.Country):\n",
    "    transpose = employment.loc[employment.Country == country].drop(columns = ['Country']).transpose()\n",
    "    transpose.columns = transpose.iloc[0]\n",
    "    employment_appended.append(transpose)\n",
    "\n",
    "final_employment = pd.concat(employment_appended)"
   ]
  },
  {
   "cell_type": "code",
   "execution_count": 423,
   "id": "eec2002a-06dd-466e-8af2-3043c523e503",
   "metadata": {},
   "outputs": [],
   "source": [
    "final_employment = final_employment.loc[final_employment['Passenger transportation'] != 'Passenger transportation'].reset_index()"
   ]
  },
  {
   "cell_type": "code",
   "execution_count": 427,
   "id": "bc09ba59-da08-44e2-ac2f-af67add2a792",
   "metadata": {},
   "outputs": [],
   "source": [
    "employment_country_list = country_list.Country.repeat(23).reset_index(drop = True).to_frame()"
   ]
  },
  {
   "cell_type": "code",
   "execution_count": 431,
   "id": "28178e6d-cd21-4504-bf55-b9592ac758ef",
   "metadata": {},
   "outputs": [],
   "source": [
    "employment_cleaned = pd.concat([employment_country_list, final_employment], axis = 1)"
   ]
  },
  {
   "cell_type": "code",
   "execution_count": 539,
   "id": "ebe5d9c9-7b75-43ba-aa19-8c17a9bb4a2f",
   "metadata": {},
   "outputs": [],
   "source": [
    "employment_cleaned = employment_cleaned.rename(columns = {'index':'Year'})"
   ]
  },
  {
   "cell_type": "code",
   "execution_count": 541,
   "id": "c77cd166-8474-4907-acb9-323876476694",
   "metadata": {},
   "outputs": [
    {
     "data": {
      "text/html": [
       "<div>\n",
       "<style scoped>\n",
       "    .dataframe tbody tr th:only-of-type {\n",
       "        vertical-align: middle;\n",
       "    }\n",
       "\n",
       "    .dataframe tbody tr th {\n",
       "        vertical-align: top;\n",
       "    }\n",
       "\n",
       "    .dataframe thead th {\n",
       "        text-align: right;\n",
       "    }\n",
       "</style>\n",
       "<table border=\"1\" class=\"dataframe\">\n",
       "  <thead>\n",
       "    <tr style=\"text-align: right;\">\n",
       "      <th></th>\n",
       "      <th>Country</th>\n",
       "      <th>Year</th>\n",
       "      <th>Total</th>\n",
       "      <th>Accommodation services for visitors (hotels and similar establishments)</th>\n",
       "      <th>Other accommodation services</th>\n",
       "      <th>Food and beverage serving activities</th>\n",
       "      <th>Passenger transportation</th>\n",
       "      <th>Travel agencies and other reservation services activities</th>\n",
       "      <th>Other tourism industries</th>\n",
       "    </tr>\n",
       "  </thead>\n",
       "  <tbody>\n",
       "    <tr>\n",
       "      <th>0</th>\n",
       "      <td>AFGHANISTAN</td>\n",
       "      <td>2000</td>\n",
       "      <td>..</td>\n",
       "      <td>..</td>\n",
       "      <td>..</td>\n",
       "      <td>..</td>\n",
       "      <td>..</td>\n",
       "      <td>..</td>\n",
       "      <td>..</td>\n",
       "    </tr>\n",
       "    <tr>\n",
       "      <th>1</th>\n",
       "      <td>AFGHANISTAN</td>\n",
       "      <td>2001</td>\n",
       "      <td>..</td>\n",
       "      <td>..</td>\n",
       "      <td>..</td>\n",
       "      <td>..</td>\n",
       "      <td>..</td>\n",
       "      <td>..</td>\n",
       "      <td>..</td>\n",
       "    </tr>\n",
       "    <tr>\n",
       "      <th>2</th>\n",
       "      <td>AFGHANISTAN</td>\n",
       "      <td>2002</td>\n",
       "      <td>..</td>\n",
       "      <td>..</td>\n",
       "      <td>..</td>\n",
       "      <td>..</td>\n",
       "      <td>..</td>\n",
       "      <td>..</td>\n",
       "      <td>..</td>\n",
       "    </tr>\n",
       "    <tr>\n",
       "      <th>3</th>\n",
       "      <td>AFGHANISTAN</td>\n",
       "      <td>2003</td>\n",
       "      <td>..</td>\n",
       "      <td>..</td>\n",
       "      <td>..</td>\n",
       "      <td>..</td>\n",
       "      <td>..</td>\n",
       "      <td>..</td>\n",
       "      <td>..</td>\n",
       "    </tr>\n",
       "    <tr>\n",
       "      <th>4</th>\n",
       "      <td>AFGHANISTAN</td>\n",
       "      <td>2004</td>\n",
       "      <td>..</td>\n",
       "      <td>..</td>\n",
       "      <td>..</td>\n",
       "      <td>..</td>\n",
       "      <td>..</td>\n",
       "      <td>..</td>\n",
       "      <td>..</td>\n",
       "    </tr>\n",
       "  </tbody>\n",
       "</table>\n",
       "</div>"
      ],
      "text/plain": [
       "       Country  Year Total  \\\n",
       "0  AFGHANISTAN  2000    ..   \n",
       "1  AFGHANISTAN  2001    ..   \n",
       "2  AFGHANISTAN  2002    ..   \n",
       "3  AFGHANISTAN  2003    ..   \n",
       "4  AFGHANISTAN  2004    ..   \n",
       "\n",
       "  Accommodation services for visitors (hotels and similar establishments)  \\\n",
       "0                                                 ..                        \n",
       "1                                                 ..                        \n",
       "2                                                 ..                        \n",
       "3                                                 ..                        \n",
       "4                                                 ..                        \n",
       "\n",
       "  Other accommodation services Food and beverage serving activities  \\\n",
       "0                           ..                                   ..   \n",
       "1                           ..                                   ..   \n",
       "2                           ..                                   ..   \n",
       "3                           ..                                   ..   \n",
       "4                           ..                                   ..   \n",
       "\n",
       "  Passenger transportation  \\\n",
       "0                       ..   \n",
       "1                       ..   \n",
       "2                       ..   \n",
       "3                       ..   \n",
       "4                       ..   \n",
       "\n",
       "  Travel agencies and other reservation services activities  \\\n",
       "0                                                 ..          \n",
       "1                                                 ..          \n",
       "2                                                 ..          \n",
       "3                                                 ..          \n",
       "4                                                 ..          \n",
       "\n",
       "  Other tourism industries  \n",
       "0                       ..  \n",
       "1                       ..  \n",
       "2                       ..  \n",
       "3                       ..  \n",
       "4                       ..  "
      ]
     },
     "execution_count": 541,
     "metadata": {},
     "output_type": "execute_result"
    }
   ],
   "source": [
    "employment_cleaned.head()"
   ]
  },
  {
   "cell_type": "code",
   "execution_count": 561,
   "id": "8c243a89-ef88-4fed-a199-abd75d6d4cb3",
   "metadata": {},
   "outputs": [],
   "source": [
    "employment_cleaned.to_csv('../data/clean/employment.csv')"
   ]
  },
  {
   "cell_type": "markdown",
   "id": "18366655-1b76-4b10-91c8-d99ba5f41415",
   "metadata": {},
   "source": [
    "## Cleaning GDP CSV"
   ]
  },
  {
   "cell_type": "code",
   "execution_count": 139,
   "id": "5327f668-fee2-4e8e-ae7f-d0eb614c2e51",
   "metadata": {},
   "outputs": [],
   "source": [
    "gdp = pd.read_csv('../data/dirty/gdp_in_b-d.csv')"
   ]
  },
  {
   "cell_type": "code",
   "execution_count": 155,
   "id": "05dd5c2e-10c2-4023-b69f-3256c850d726",
   "metadata": {},
   "outputs": [],
   "source": [
    "gdp.insert(0, 'GDP', 'GDP', True)"
   ]
  },
  {
   "cell_type": "code",
   "execution_count": 161,
   "id": "0b9379b1-2c3c-4548-9a9f-7f99a4418e44",
   "metadata": {},
   "outputs": [],
   "source": [
    "gdp_appended = []\n",
    "for country in pd.unique(gdp.Country):\n",
    "    transpose = gdp.loc[gdp.Country == country].drop(columns = ['Country']).transpose()\n",
    "    transpose.columns = transpose.iloc[0]\n",
    "    gdp_appended.append(transpose)\n",
    "\n",
    "final_gdp = pd.concat(gdp_appended)"
   ]
  },
  {
   "cell_type": "code",
   "execution_count": 436,
   "id": "d5fa253b-477c-45c3-861d-03aff8ea490b",
   "metadata": {},
   "outputs": [],
   "source": [
    "final_gdp = final_gdp.loc[final_gdp['GDP'] != 'GDP'].reset_index()"
   ]
  },
  {
   "cell_type": "code",
   "execution_count": 671,
   "id": "d3ffbdbd-61e4-47f5-af7d-7eef012f73d6",
   "metadata": {},
   "outputs": [],
   "source": [
    "gdp_country_list = pd.DataFrame(gdp.Country.unique())"
   ]
  },
  {
   "cell_type": "code",
   "execution_count": 673,
   "id": "fc25f255-4554-401d-8d9f-4fba59ee35f0",
   "metadata": {},
   "outputs": [],
   "source": [
    "gdp_country_list = gdp_country_list.rename(columns = {0:'Country'})"
   ]
  },
  {
   "cell_type": "code",
   "execution_count": 689,
   "id": "2bfe046a-77e3-4d3b-ab4f-d8332b4f6979",
   "metadata": {},
   "outputs": [],
   "source": [
    "country_list_50 = gdp_country_list.Country.repeat(50).reset_index(drop = True).to_frame()"
   ]
  },
  {
   "cell_type": "code",
   "execution_count": 699,
   "id": "6ec19d3f-e5c2-4481-be5d-79654feb5e6d",
   "metadata": {},
   "outputs": [],
   "source": [
    "gdp_cleaned = pd.concat([country_list_50, final_gdp], axis = 1)"
   ]
  },
  {
   "cell_type": "code",
   "execution_count": 701,
   "id": "da7c3e43-7e44-47b4-91dd-e2815251daaa",
   "metadata": {},
   "outputs": [],
   "source": [
    "gdp_cleaned = gdp_cleaned.rename(columns = {'index':'Year'})"
   ]
  },
  {
   "cell_type": "code",
   "execution_count": 703,
   "id": "fe1b027f-1f67-40cc-8ad8-740e31903e6d",
   "metadata": {},
   "outputs": [],
   "source": [
    "gdp_cleaned.Country = gdp_cleaned.Country.str.upper()"
   ]
  },
  {
   "cell_type": "code",
   "execution_count": 771,
   "id": "db2c34ed-dd18-40fd-8408-5fe5f25d26a9",
   "metadata": {},
   "outputs": [],
   "source": [
    "replacement = {'VIETNAM':'VIET NAM',\n",
    "               'CZECH REPUBLIC':'CZECH REPUBLIC (CZECHIA)',\n",
    "               'SYRIA':'SYRIAN ARAB REPUBLIC',\n",
    "               'MACAO SAR':'MACAO, CHINA',\n",
    "               'TÜRKIYE, REPUBLIC OF':'TÜRKIYE',\n",
    "               'CONGO, DEM. REP. OF THE':'CONGO, DEMOCRATIC REPUBLIC OF THE',\n",
    "               'MOLDOVA':'MOLDOVA, REPUBLIC OF',\n",
    "               'KYRGYZ REPUBLIC':'KYRGYZSTAN',\n",
    "               'GAMBIA, THE':'GAMBIA',\n",
    "               'VENEZUELA':'VENEZUELA, BOLIVARIAN REPUBLIC OF',\n",
    "               'WEST BANK AND GAZA':'STATE OF PALESTINE',\n",
    "               'SLOVAK REPUBLIC':'SLOVAKIA',\n",
    "               'TANZANIA':'TANZANIA, UNITED REPUBLIC OF',\n",
    "               'HONG KONG SAR':'HONG KONG, CHINA',\n",
    "               'IRAN':'IRAN, ISLAMIC REPUBLIC OF',\n",
    "               'MICRONESIA, FED. STATES OF':'MICRONESIA, FEDERATED STATES OF',\n",
    "               \"CHINA, PEOPLE'S REPUBLIC OF\":'CHINA',\n",
    "               'SOUTH SUDAN, REPUBLIC OF':'SOUTH SUDAN',\n",
    "               'LAO P.D.R.':'LAO PEOPLE´S DEMOCRATIC REPUBLIC',\n",
    "               'SÃO TOMÉ AND PRÍNCIPE':'SAO TOME AND PRINCIPE',\n",
    "               \"CÔTE D'IVOIRE\":'COTE D´IVOIRE',\n",
    "               'CONGO, REPUBLIC OF ':'CONGO',\n",
    "               'UNITED STATES':'UNITED STATES OF AMERICA',\n",
    "               'BAHAMAS, THE':'BAHAMAS',\n",
    "               'BOLIVIA':'BOLIVIA, PLURINATIONAL STATE OF'}\n",
    "               \n",
    "gdp_cleaned.Country = gdp_cleaned.Country.replace(replacement)"
   ]
  },
  {
   "cell_type": "code",
   "execution_count": 773,
   "id": "e4a33e30-1bc4-4f1f-8e90-0d717efa3414",
   "metadata": {},
   "outputs": [
    {
     "data": {
      "text/html": [
       "<div>\n",
       "<style scoped>\n",
       "    .dataframe tbody tr th:only-of-type {\n",
       "        vertical-align: middle;\n",
       "    }\n",
       "\n",
       "    .dataframe tbody tr th {\n",
       "        vertical-align: top;\n",
       "    }\n",
       "\n",
       "    .dataframe thead th {\n",
       "        text-align: right;\n",
       "    }\n",
       "</style>\n",
       "<table border=\"1\" class=\"dataframe\">\n",
       "  <thead>\n",
       "    <tr style=\"text-align: right;\">\n",
       "      <th></th>\n",
       "      <th>Country</th>\n",
       "      <th>Year</th>\n",
       "      <th>GDP</th>\n",
       "    </tr>\n",
       "  </thead>\n",
       "  <tbody>\n",
       "    <tr>\n",
       "      <th>0</th>\n",
       "      <td>AFGHANISTAN</td>\n",
       "      <td>1980</td>\n",
       "      <td>no data</td>\n",
       "    </tr>\n",
       "    <tr>\n",
       "      <th>1</th>\n",
       "      <td>AFGHANISTAN</td>\n",
       "      <td>1981</td>\n",
       "      <td>no data</td>\n",
       "    </tr>\n",
       "    <tr>\n",
       "      <th>2</th>\n",
       "      <td>AFGHANISTAN</td>\n",
       "      <td>1982</td>\n",
       "      <td>no data</td>\n",
       "    </tr>\n",
       "    <tr>\n",
       "      <th>3</th>\n",
       "      <td>AFGHANISTAN</td>\n",
       "      <td>1983</td>\n",
       "      <td>no data</td>\n",
       "    </tr>\n",
       "    <tr>\n",
       "      <th>4</th>\n",
       "      <td>AFGHANISTAN</td>\n",
       "      <td>1984</td>\n",
       "      <td>no data</td>\n",
       "    </tr>\n",
       "  </tbody>\n",
       "</table>\n",
       "</div>"
      ],
      "text/plain": [
       "       Country  Year      GDP\n",
       "0  AFGHANISTAN  1980  no data\n",
       "1  AFGHANISTAN  1981  no data\n",
       "2  AFGHANISTAN  1982  no data\n",
       "3  AFGHANISTAN  1983  no data\n",
       "4  AFGHANISTAN  1984  no data"
      ]
     },
     "execution_count": 773,
     "metadata": {},
     "output_type": "execute_result"
    }
   ],
   "source": [
    "gdp_cleaned.head()"
   ]
  },
  {
   "cell_type": "code",
   "execution_count": 775,
   "id": "73df401b-06ab-4334-af06-396b22b7d32e",
   "metadata": {},
   "outputs": [],
   "source": [
    "gdp_cleaned.to_csv('../data/clean/gdp.csv')"
   ]
  },
  {
   "cell_type": "markdown",
   "id": "41e77e45-83cd-4335-8cf9-007f75f99e49",
   "metadata": {},
   "source": [
    "## Cleaning GDP Per Capita CSV"
   ]
  },
  {
   "cell_type": "code",
   "execution_count": 217,
   "id": "9d761f7d-6363-404b-9782-ef0c6dfdb45a",
   "metadata": {},
   "outputs": [],
   "source": [
    "gdp_per_capita = pd.read_csv('../data/dirty/gdp_per_capita-d.csv')"
   ]
  },
  {
   "cell_type": "code",
   "execution_count": 219,
   "id": "c2606901-a76f-4476-9a1e-24de33b894b3",
   "metadata": {},
   "outputs": [],
   "source": [
    "gdp_per_capita.insert(0, 'Year', 'GDP Per Capita', True)"
   ]
  },
  {
   "cell_type": "code",
   "execution_count": 221,
   "id": "7d9ae20f-a186-4ba5-a6cd-7ef4bde88771",
   "metadata": {},
   "outputs": [],
   "source": [
    "gdp_per_capita_appended = []\n",
    "for country in pd.unique(gdp_per_capita.Country):\n",
    "    transpose = gdp_per_capita.loc[gdp_per_capita.Country == country].drop(columns = ['Country']).transpose()\n",
    "    transpose.columns = transpose.iloc[0]\n",
    "    gdp_per_capita_appended.append(transpose)\n",
    "\n",
    "final_gdp_per_capita = pd.concat(gdp_per_capita_appended)"
   ]
  },
  {
   "cell_type": "code",
   "execution_count": 479,
   "id": "6bdd574d-291b-4059-981e-fceebbde26d7",
   "metadata": {},
   "outputs": [],
   "source": [
    "final_gdp_per_capita = final_gdp_per_capita.loc[final_gdp_per_capita['GDP Per Capita'] != 'GDP Per Capita'].reset_index()"
   ]
  },
  {
   "cell_type": "code",
   "execution_count": 595,
   "id": "2651df91-8d39-4a9b-a406-7f77c3d66cea",
   "metadata": {},
   "outputs": [],
   "source": [
    "gdp_per_capita_cleaned = pd.concat([country_list_50, final_gdp_per_capita], axis = 1)"
   ]
  },
  {
   "cell_type": "code",
   "execution_count": 597,
   "id": "e2550509-5733-4d00-a614-853a1aaea8ea",
   "metadata": {},
   "outputs": [],
   "source": [
    "gdp_per_capita_cleaned = gdp_per_capita_cleaned.rename(columns = {'index':'Year'})"
   ]
  },
  {
   "cell_type": "code",
   "execution_count": 749,
   "id": "174a23bf-3b8d-4dcd-977f-630067a80644",
   "metadata": {},
   "outputs": [],
   "source": [
    "gdp_per_capita_cleaned.Country = gdp_per_capita_cleaned.Country.str.upper()"
   ]
  },
  {
   "cell_type": "code",
   "execution_count": 777,
   "id": "8ce3ed4c-0766-492a-a2b9-83879eb9f5c2",
   "metadata": {},
   "outputs": [],
   "source": [
    "replacement = {'VIETNAM':'VIET NAM',\n",
    "               'CZECH REPUBLIC':'CZECH REPUBLIC (CZECHIA)',\n",
    "               'SYRIA':'SYRIAN ARAB REPUBLIC',\n",
    "               'MACAO SAR':'MACAO, CHINA',\n",
    "               'TÜRKIYE, REPUBLIC OF':'TÜRKIYE',\n",
    "               'CONGO, DEM. REP. OF THE':'CONGO, DEMOCRATIC REPUBLIC OF THE',\n",
    "               'MOLDOVA':'MOLDOVA, REPUBLIC OF',\n",
    "               'KYRGYZ REPUBLIC':'KYRGYZSTAN',\n",
    "               'GAMBIA, THE':'GAMBIA',\n",
    "               'VENEZUELA':'VENEZUELA, BOLIVARIAN REPUBLIC OF',\n",
    "               'WEST BANK AND GAZA':'STATE OF PALESTINE',\n",
    "               'SLOVAK REPUBLIC':'SLOVAKIA',\n",
    "               'TANZANIA':'TANZANIA, UNITED REPUBLIC OF',\n",
    "               'HONG KONG SAR':'HONG KONG, CHINA',\n",
    "               'IRAN':'IRAN, ISLAMIC REPUBLIC OF',\n",
    "               'MICRONESIA, FED. STATES OF':'MICRONESIA, FEDERATED STATES OF',\n",
    "               \"CHINA, PEOPLE'S REPUBLIC OF\":'CHINA',\n",
    "               'SOUTH SUDAN, REPUBLIC OF':'SOUTH SUDAN',\n",
    "               'LAO P.D.R.':'LAO PEOPLE´S DEMOCRATIC REPUBLIC',\n",
    "               'SÃO TOMÉ AND PRÍNCIPE':'SAO TOME AND PRINCIPE',\n",
    "               \"CÔTE D'IVOIRE\":'COTE D´IVOIRE',\n",
    "               'CONGO, REPUBLIC OF ':'CONGO',\n",
    "               'UNITED STATES':'UNITED STATES OF AMERICA',\n",
    "               'BAHAMAS, THE':'BAHAMAS',\n",
    "               'BOLIVIA':'BOLIVIA, PLURINATIONAL STATE OF'}\n",
    "               \n",
    "gdp_per_capita_cleaned.Country = gdp_per_capita_cleaned.Country.replace(replacement)"
   ]
  },
  {
   "cell_type": "code",
   "execution_count": 779,
   "id": "7017c4bb-fb2b-44a4-a212-3888a6bf6537",
   "metadata": {},
   "outputs": [
    {
     "data": {
      "text/html": [
       "<div>\n",
       "<style scoped>\n",
       "    .dataframe tbody tr th:only-of-type {\n",
       "        vertical-align: middle;\n",
       "    }\n",
       "\n",
       "    .dataframe tbody tr th {\n",
       "        vertical-align: top;\n",
       "    }\n",
       "\n",
       "    .dataframe thead th {\n",
       "        text-align: right;\n",
       "    }\n",
       "</style>\n",
       "<table border=\"1\" class=\"dataframe\">\n",
       "  <thead>\n",
       "    <tr style=\"text-align: right;\">\n",
       "      <th></th>\n",
       "      <th>Country</th>\n",
       "      <th>Year</th>\n",
       "      <th>GDP Per Capita</th>\n",
       "    </tr>\n",
       "  </thead>\n",
       "  <tbody>\n",
       "    <tr>\n",
       "      <th>0</th>\n",
       "      <td>AFGHANISTAN</td>\n",
       "      <td>1980</td>\n",
       "      <td>no data</td>\n",
       "    </tr>\n",
       "    <tr>\n",
       "      <th>1</th>\n",
       "      <td>AFGHANISTAN</td>\n",
       "      <td>1981</td>\n",
       "      <td>no data</td>\n",
       "    </tr>\n",
       "    <tr>\n",
       "      <th>2</th>\n",
       "      <td>AFGHANISTAN</td>\n",
       "      <td>1982</td>\n",
       "      <td>no data</td>\n",
       "    </tr>\n",
       "    <tr>\n",
       "      <th>3</th>\n",
       "      <td>AFGHANISTAN</td>\n",
       "      <td>1983</td>\n",
       "      <td>no data</td>\n",
       "    </tr>\n",
       "    <tr>\n",
       "      <th>4</th>\n",
       "      <td>AFGHANISTAN</td>\n",
       "      <td>1984</td>\n",
       "      <td>no data</td>\n",
       "    </tr>\n",
       "  </tbody>\n",
       "</table>\n",
       "</div>"
      ],
      "text/plain": [
       "       Country  Year GDP Per Capita\n",
       "0  AFGHANISTAN  1980        no data\n",
       "1  AFGHANISTAN  1981        no data\n",
       "2  AFGHANISTAN  1982        no data\n",
       "3  AFGHANISTAN  1983        no data\n",
       "4  AFGHANISTAN  1984        no data"
      ]
     },
     "execution_count": 779,
     "metadata": {},
     "output_type": "execute_result"
    }
   ],
   "source": [
    "gdp_per_capita_cleaned.head()"
   ]
  },
  {
   "cell_type": "code",
   "execution_count": 781,
   "id": "855d1fac-26f1-47ba-82f5-3122376c12eb",
   "metadata": {},
   "outputs": [],
   "source": [
    "gdp_per_capita_cleaned.to_csv('../data/clean/gdp_per_capita.csv')"
   ]
  },
  {
   "cell_type": "markdown",
   "id": "f04def09-0ad4-4a52-96be-b7a7b25d6695",
   "metadata": {},
   "source": [
    "## Cleaning Tourism GDP CSV"
   ]
  },
  {
   "cell_type": "code",
   "execution_count": 243,
   "id": "38eab252-fb1e-4a88-97e7-edc32a204c21",
   "metadata": {},
   "outputs": [],
   "source": [
    "tourism_gdp = pd.read_csv('../data/dirty/tourism_gdp-d.csv')"
   ]
  },
  {
   "cell_type": "code",
   "execution_count": 785,
   "id": "aeae55e2-d693-4d47-af01-d27ba07cb3c3",
   "metadata": {},
   "outputs": [],
   "source": [
    "tourism_gdp_cleaned = tourism_gdp"
   ]
  },
  {
   "cell_type": "code",
   "execution_count": 787,
   "id": "d6aa5bf4-7bd1-4157-96a7-1b30ab838f13",
   "metadata": {},
   "outputs": [],
   "source": [
    "tourism_gdp_cleaned.Country = tourism_gdp_cleaned.Country.str.upper()"
   ]
  },
  {
   "cell_type": "code",
   "execution_count": 799,
   "id": "8c209b60-728b-41b3-9a92-2b01cfcefa47",
   "metadata": {},
   "outputs": [],
   "source": [
    "replacement = {'REPUBLIC OF KOREA':'KOREA, DEMOCRATIC PEOPLE´S REPUBLIC OF',\n",
    "              'UNITED KINGDOM OF GREAT BRITAIN AND NORTHERN IRELAND':'UNITED KINGDOM',\n",
    "              'CZECHIA':'CZECH REPUBLIC (CZECHIA)',\n",
    "              'CHINA, HONG KONG SPECIAL ADMINISTRATIVE REGION':'HONG KONG, CHINA',\n",
    "              \"CÔTE D'IVOIRE\":\"COTE DÂ´IVOIRE\",\n",
    "              'CHINA, MACAO SPECIAL ADMINISTRATIVE REGION':'MACAO, CHINA',\n",
    "              'NETHERLANDS (KINGDOM OF THE)':'NETHERLANDS'}\n",
    "               \n",
    "tourism_gdp_cleaned.Country = tourism_gdp_cleaned.Country.replace(replacement)"
   ]
  },
  {
   "cell_type": "code",
   "execution_count": 795,
   "id": "5569143f-6889-4192-a2b4-10f374bb5cbf",
   "metadata": {},
   "outputs": [
    {
     "data": {
      "text/html": [
       "<div>\n",
       "<style scoped>\n",
       "    .dataframe tbody tr th:only-of-type {\n",
       "        vertical-align: middle;\n",
       "    }\n",
       "\n",
       "    .dataframe tbody tr th {\n",
       "        vertical-align: top;\n",
       "    }\n",
       "\n",
       "    .dataframe thead th {\n",
       "        text-align: right;\n",
       "    }\n",
       "</style>\n",
       "<table border=\"1\" class=\"dataframe\">\n",
       "  <thead>\n",
       "    <tr style=\"text-align: right;\">\n",
       "      <th></th>\n",
       "      <th>Country</th>\n",
       "      <th>Year</th>\n",
       "      <th>%GDP</th>\n",
       "    </tr>\n",
       "  </thead>\n",
       "  <tbody>\n",
       "    <tr>\n",
       "      <th>0</th>\n",
       "      <td>ALBANIA</td>\n",
       "      <td>2008</td>\n",
       "      <td>2.8</td>\n",
       "    </tr>\n",
       "    <tr>\n",
       "      <th>1</th>\n",
       "      <td>ALBANIA</td>\n",
       "      <td>2009</td>\n",
       "      <td>2.7</td>\n",
       "    </tr>\n",
       "    <tr>\n",
       "      <th>2</th>\n",
       "      <td>ALBANIA</td>\n",
       "      <td>2010</td>\n",
       "      <td>2.8</td>\n",
       "    </tr>\n",
       "    <tr>\n",
       "      <th>3</th>\n",
       "      <td>ALBANIA</td>\n",
       "      <td>2011</td>\n",
       "      <td>2.5</td>\n",
       "    </tr>\n",
       "    <tr>\n",
       "      <th>4</th>\n",
       "      <td>ALBANIA</td>\n",
       "      <td>2012</td>\n",
       "      <td>2.4</td>\n",
       "    </tr>\n",
       "  </tbody>\n",
       "</table>\n",
       "</div>"
      ],
      "text/plain": [
       "   Country  Year  %GDP\n",
       "0  ALBANIA  2008   2.8\n",
       "1  ALBANIA  2009   2.7\n",
       "2  ALBANIA  2010   2.8\n",
       "3  ALBANIA  2011   2.5\n",
       "4  ALBANIA  2012   2.4"
      ]
     },
     "execution_count": 795,
     "metadata": {},
     "output_type": "execute_result"
    }
   ],
   "source": [
    "tourism_gdp_cleaned.head()"
   ]
  },
  {
   "cell_type": "code",
   "execution_count": 801,
   "id": "87abef29-7af8-4964-baa5-12af61c66453",
   "metadata": {},
   "outputs": [],
   "source": [
    "tourism_gdp_cleaned.to_csv('../data/clean/tourism_gdp.csv')"
   ]
  },
  {
   "cell_type": "markdown",
   "id": "33293299-6d38-4215-9219-b03ad286310e",
   "metadata": {},
   "source": [
    "## Cleaning Population CSV"
   ]
  },
  {
   "cell_type": "code",
   "execution_count": 851,
   "id": "fefc25cd-e648-4f6c-91c6-21f02ca1c21d",
   "metadata": {},
   "outputs": [],
   "source": [
    "population = pd.read_csv('../data/dirty/population-d.csv')"
   ]
  },
  {
   "cell_type": "code",
   "execution_count": 853,
   "id": "024a1e77-2266-43de-b6e9-386a83834c6f",
   "metadata": {},
   "outputs": [],
   "source": [
    "population.columns = population.iloc[0]"
   ]
  },
  {
   "cell_type": "code",
   "execution_count": 855,
   "id": "70c5cb41-8cac-49e6-ac9a-beeff823bf15",
   "metadata": {},
   "outputs": [],
   "source": [
    "population_cleaned = population.loc[population['Type'] == 'Country/Area']"
   ]
  },
  {
   "cell_type": "code",
   "execution_count": 857,
   "id": "8915fb4c-c598-43ac-9424-8cf72a2877e4",
   "metadata": {},
   "outputs": [],
   "source": [
    "population_cleaned = population_cleaned.loc[population_cleaned.Year == '2022']"
   ]
  },
  {
   "cell_type": "code",
   "execution_count": 859,
   "id": "90ef5d33-cf88-4a5e-8dfa-5664fc63761d",
   "metadata": {},
   "outputs": [],
   "source": [
    "population_cleaned.columns = ['Country', 'Type', 'Year', 'Population', 'Population Density']"
   ]
  },
  {
   "cell_type": "code",
   "execution_count": 861,
   "id": "d67f5188-9884-45f4-8c20-d9ccf139207a",
   "metadata": {},
   "outputs": [],
   "source": [
    "population_cleaned.Country = population_cleaned.Country.str.upper()"
   ]
  },
  {
   "cell_type": "code",
   "execution_count": 863,
   "id": "f409cc76-ade1-4263-843b-b1cc7cb374a7",
   "metadata": {},
   "outputs": [],
   "source": [
    "replacement = {'CHINA, TAIWAN PROVINCE OF CHINA':'TAIWAN PROVINCE OF CHINA',\n",
    "              'CHINA, MACAO SAR':'MACAO, CHINA',\n",
    "              'CHINA, HONG KONG SAR':'HONG KONG, CHINA',\n",
    "              'BONAIRE, SINT EUSTATIUS AND SABA':'BONAIRE',\n",
    "              'DEMOCRATIC REPUBLIC OF THE CONGO':'CONGO, DEMOCRATIC REPUBLIC OF THE',\n",
    "              'REPUBLIC OF MOLDOVA':'MOLDOVA, REPUBLIC OF',\n",
    "              'REPUBLIC OF KOREA':'KOREA, REPUBLIC OF',\n",
    "              'BOLIVIA (PLURINATIONAL STATE OF)':'BOLIVIA, PLURINATIONAL STATE OF',\n",
    "              'IRAN (ISLAMIC REPUBLIC OF)':'IRAN, ISLAMIC REPUBLIC OF',\n",
    "              \"LAO PEOPLE'S DEMOCRATIC REPUBLIC\":'LAO PEOPLE´S DEMOCRATIC REPUBLIC',\n",
    "              'CZECHIA':'CZECH REPUBLIC (CZECHIA)',\n",
    "              \"DEM. PEOPLE'S REPUBLIC OF KOREA\":'KOREA, DEMOCRATIC PEOPLE´S REPUBLIC OF',\n",
    "              'UNITED REPUBLIC OF TANZANIA':'TANZANIA, UNITED REPUBLIC OF',\n",
    "              'MICRONESIA (FED. STATES OF)':'MICRONESIA, FEDERATED STATES OF',\n",
    "              'VENEZUELA (BOLIVARIAN REPUBLIC OF)':'VENEZUELA, BOLIVARIAN REPUBLIC OF',\n",
    "              \"CÔTE D'IVOIRE\":\"COTE D'IVOIRE\"}\n",
    "               \n",
    "\n",
    "population_cleaned.Country = population_cleaned.Country.replace(replacement)"
   ]
  },
  {
   "cell_type": "code",
   "execution_count": 865,
   "id": "d8ba42f3-908f-4eeb-80af-38aa201d3d5a",
   "metadata": {},
   "outputs": [
    {
     "data": {
      "text/html": [
       "<div>\n",
       "<style scoped>\n",
       "    .dataframe tbody tr th:only-of-type {\n",
       "        vertical-align: middle;\n",
       "    }\n",
       "\n",
       "    .dataframe tbody tr th {\n",
       "        vertical-align: top;\n",
       "    }\n",
       "\n",
       "    .dataframe thead th {\n",
       "        text-align: right;\n",
       "    }\n",
       "</style>\n",
       "<table border=\"1\" class=\"dataframe\">\n",
       "  <thead>\n",
       "    <tr style=\"text-align: right;\">\n",
       "      <th></th>\n",
       "      <th>Country</th>\n",
       "      <th>Type</th>\n",
       "      <th>Year</th>\n",
       "      <th>Population</th>\n",
       "      <th>Population Density</th>\n",
       "    </tr>\n",
       "  </thead>\n",
       "  <tbody>\n",
       "    <tr>\n",
       "      <th>2667</th>\n",
       "      <td>BURUNDI</td>\n",
       "      <td>Country/Area</td>\n",
       "      <td>2022</td>\n",
       "      <td>13 321</td>\n",
       "      <td>513.3</td>\n",
       "    </tr>\n",
       "    <tr>\n",
       "      <th>2741</th>\n",
       "      <td>COMOROS</td>\n",
       "      <td>Country/Area</td>\n",
       "      <td>2022</td>\n",
       "      <td>834</td>\n",
       "      <td>448.2</td>\n",
       "    </tr>\n",
       "    <tr>\n",
       "      <th>2815</th>\n",
       "      <td>DJIBOUTI</td>\n",
       "      <td>Country/Area</td>\n",
       "      <td>2022</td>\n",
       "      <td>1 137</td>\n",
       "      <td>49.1</td>\n",
       "    </tr>\n",
       "    <tr>\n",
       "      <th>2889</th>\n",
       "      <td>ERITREA</td>\n",
       "      <td>Country/Area</td>\n",
       "      <td>2022</td>\n",
       "      <td>3 409</td>\n",
       "      <td>28.1</td>\n",
       "    </tr>\n",
       "    <tr>\n",
       "      <th>2963</th>\n",
       "      <td>ETHIOPIA</td>\n",
       "      <td>Country/Area</td>\n",
       "      <td>2022</td>\n",
       "      <td>125 384</td>\n",
       "      <td>125.4</td>\n",
       "    </tr>\n",
       "  </tbody>\n",
       "</table>\n",
       "</div>"
      ],
      "text/plain": [
       "       Country          Type  Year Population Population Density\n",
       "2667   BURUNDI  Country/Area  2022     13 321              513.3\n",
       "2741   COMOROS  Country/Area  2022        834              448.2\n",
       "2815  DJIBOUTI  Country/Area  2022      1 137               49.1\n",
       "2889   ERITREA  Country/Area  2022      3 409               28.1\n",
       "2963  ETHIOPIA  Country/Area  2022    125 384              125.4"
      ]
     },
     "execution_count": 865,
     "metadata": {},
     "output_type": "execute_result"
    }
   ],
   "source": [
    "population_cleaned.head()"
   ]
  },
  {
   "cell_type": "code",
   "execution_count": 867,
   "id": "8e3be96b-e6d1-48e2-8585-07a7262c7029",
   "metadata": {},
   "outputs": [],
   "source": [
    "population_cleaned.to_csv('../data/clean/population.csv')"
   ]
  }
 ],
 "metadata": {
  "kernelspec": {
   "display_name": "Python 3 (ipykernel)",
   "language": "python",
   "name": "python3"
  },
  "language_info": {
   "codemirror_mode": {
    "name": "ipython",
    "version": 3
   },
   "file_extension": ".py",
   "mimetype": "text/x-python",
   "name": "python",
   "nbconvert_exporter": "python",
   "pygments_lexer": "ipython3",
   "version": "3.11.7"
  }
 },
 "nbformat": 4,
 "nbformat_minor": 5
}
